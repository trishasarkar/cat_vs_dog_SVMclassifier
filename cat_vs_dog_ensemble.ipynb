{
 "cells": [
  {
   "cell_type": "code",
   "execution_count": 111,
   "metadata": {},
   "outputs": [],
   "source": [
    "import numpy as np\n",
    "import pandas as pd\n",
    "from sklearn import svm\n",
    "import matplotlib.pyplot as plt\n",
    "import cv2\n",
    "import os\n",
    "from sklearn.model_selection import train_test_split\n",
    "import seaborn as sn\n",
    "from sklearn.metrics import accuracy_score\n",
    "from sklearn.neighbors import KNeighborsClassifier\n",
    "from sklearn.ensemble import VotingClassifier\n",
    "from sklearn.tree import DecisionTreeClassifier\n",
    "from sklearn.ensemble import RandomForestClassifier"
   ]
  },
  {
   "cell_type": "code",
   "execution_count": 73,
   "metadata": {},
   "outputs": [],
   "source": [
    "def get_images_from_folder(folder):\n",
    "    #storing the path for all the images\n",
    "    images = []\n",
    "    labels = []\n",
    "    for filename in os.listdir(folder):\n",
    "        labels.append(filename[:3])\n",
    "        img = os.path.join(folder,filename)\n",
    "        if img is not None:\n",
    "            images.append(img)\n",
    "    return images,labels"
   ]
  },
  {
   "cell_type": "code",
   "execution_count": 74,
   "metadata": {},
   "outputs": [],
   "source": [
    "folder = \"C:\\\\Users\\\\Trisha Sarkar\\\\Downloads\\\\Datasets\\\\cat_vs_dog_svm\"\n",
    "images, labels = get_images_from_folder (folder)"
   ]
  },
  {
   "cell_type": "code",
   "execution_count": 75,
   "metadata": {},
   "outputs": [],
   "source": [
    "#fv - feature vector\n",
    "def image_to_fv(image, size):\n",
    "    resized = cv2.resize(image,size)\n",
    "    fv = resized.flatten()\n",
    "    return fv"
   ]
  },
  {
   "cell_type": "code",
   "execution_count": 76,
   "metadata": {},
   "outputs": [
    {
     "name": "stdout",
     "output_type": "stream",
     "text": [
      "(374, 500, 3)\n",
      "(374, 500, 3)\n"
     ]
    }
   ],
   "source": [
    "s = cv2.imread(images[0])\n",
    "print(s.shape)\n",
    "s1 = cv2.imread(images[48])\n",
    "print(s1.shape)"
   ]
  },
  {
   "cell_type": "code",
   "execution_count": 77,
   "metadata": {},
   "outputs": [],
   "source": [
    "#iterating in training set of data\n",
    "fv_all = []\n",
    "for i in images:\n",
    "    img = cv2.imread(i)\n",
    "    #stores the raw pixel values in a 1 dim array\n",
    "    pixels = image_to_fv(img, (300,350))\n",
    "    fv_all.append(pixels)"
   ]
  },
  {
   "cell_type": "code",
   "execution_count": 78,
   "metadata": {},
   "outputs": [
    {
     "data": {
      "text/plain": [
       "(315000,)"
      ]
     },
     "execution_count": 78,
     "metadata": {},
     "output_type": "execute_result"
    }
   ],
   "source": [
    "fv_all[0].shape"
   ]
  },
  {
   "cell_type": "code",
   "execution_count": 100,
   "metadata": {},
   "outputs": [],
   "source": [
    "X_train,X_test,y_train,y_test = train_test_split(fv_all,labels,test_size = 0.3, random_state=4)\n",
    "#Training: input data X_train and their labels X_test\n",
    "#Testing: input data y_train and their labels y_test(y_test is not fed to the model)"
   ]
  },
  {
   "cell_type": "code",
   "execution_count": 101,
   "metadata": {},
   "outputs": [],
   "source": [
    "#SVM\n",
    "model_svm = svm.SVC()\n",
    "model_svm.fit(X_train, y_train)\n",
    "y_pred_svm = model_svm.predict(X_test)"
   ]
  },
  {
   "cell_type": "code",
   "execution_count": 102,
   "metadata": {},
   "outputs": [],
   "source": [
    "#KNN\n",
    "model_knn = KNeighborsClassifier(n_neighbors=15)\n",
    "model_knn.fit(X_train, y_train)\n",
    "y_pred_knn = model_knn.predict(X_test)"
   ]
  },
  {
   "cell_type": "code",
   "execution_count": 103,
   "metadata": {},
   "outputs": [],
   "source": [
    "model_dt= DecisionTreeClassifier()\n",
    "model_dt.fit(X_train, y_train)\n",
    "y_pred_dt = model_knn.predict(X_test)"
   ]
  },
  {
   "cell_type": "code",
   "execution_count": 145,
   "metadata": {},
   "outputs": [],
   "source": [
    "model_rf = RandomForestClassifier(n_estimators=43, random_state=1)\n",
    "model_rf.fit(X_train, y_train)\n",
    "y_pred_rf = model_rf.predict(X_test)"
   ]
  },
  {
   "cell_type": "code",
   "execution_count": 104,
   "metadata": {},
   "outputs": [],
   "source": [
    "y_test=np.array(y_test)"
   ]
  },
  {
   "cell_type": "code",
   "execution_count": 153,
   "metadata": {},
   "outputs": [
    {
     "name": "stdout",
     "output_type": "stream",
     "text": [
      "Accuracy of SVM:  0.5934065934065934\n",
      "Accuracy of KNN:  0.5934065934065934\n"
     ]
    },
    {
     "data": {
      "image/png": "[encoded data removed]",
      "text/plain": [
       "<Figure size 432x288 with 4 Axes>"
      ]
     },
     "metadata": {
      "needs_background": "light"
     },
     "output_type": "display_data"
    }
   ],
   "source": [
    "fig, (ax1, ax2) = plt.subplots(1,2)\n",
    "\n",
    "confusion_matrix = pd.crosstab(y_test,y_pred_svm,rownames=['Actual'],colnames=['Predicted'])\n",
    "sn.heatmap(confusion_matrix, annot=True, ax=ax1)\n",
    "print(\"Accuracy of SVM: \",accuracy_score(y_test,y_pred_svm))\n",
    "\n",
    "confusion_matrix = pd.crosstab(y_test,y_pred_knn,rownames=['Actual'],colnames=['Predicted'])\n",
    "sn.heatmap(confusion_matrix, annot=True, ax=ax2)\n",
    "print(\"Accuracy of KNN: \",accuracy_score(y_test,y_pred_knn))\n"
   ]
  },
  {
   "cell_type": "code",
   "execution_count": 155,
   "metadata": {},
   "outputs": [
    {
     "name": "stdout",
     "output_type": "stream",
     "text": [
      "Accuracy of Decision Tree:  0.5934065934065934\n",
      "Accuracy of Random Forest:  0.5384615384615384\n"
     ]
    },
    {
     "data": {
      "image/png": "[encoded data removed]",
      "text/plain": [
       "<Figure size 432x288 with 4 Axes>"
      ]
     },
     "metadata": {
      "needs_background": "light"
     },
     "output_type": "display_data"
    }
   ],
   "source": [
    "fig, (ax3, ax4) = plt.subplots(1,2)\n",
    "\n",
    "confusion_matrix = pd.crosstab(y_test,y_pred_dt,rownames=['Actual'],colnames=['Predicted'])\n",
    "sn.heatmap(confusion_matrix, annot=True, ax=ax3)\n",
    "print(\"Accuracy of Decision Tree: \",accuracy_score(y_test,y_pred_dt))\n",
    "\n",
    "confusion_matrix = pd.crosstab(y_test,y_pred_rf,rownames=['Actual'],colnames=['Predicted'])\n",
    "sn.heatmap(confusion_matrix, annot=True, ax=ax4)\n",
    "print(\"Accuracy of Random Forest: \",accuracy_score(y_test,y_pred_rf))"
   ]
  },
  {
   "cell_type": "code",
   "execution_count": 84,
   "metadata": {},
   "outputs": [
    {
     "data": {
      "text/plain": [
       "array([[ 25.,  58.,  84., ...,   2.,   1.,  18.],\n",
       "       [153., 170., 192., ..., 109., 133., 155.],\n",
       "       [109., 138., 169., ...,  34.,  45.,  65.],\n",
       "       ...,\n",
       "       [156., 148., 165., ..., 221., 195., 201.],\n",
       "       [ 99.,  96.,  88., ..., 130., 131., 129.],\n",
       "       [ 22.,  81.,  50., ...,  70., 156., 114.]])"
      ]
     },
     "execution_count": 84,
     "metadata": {},
     "output_type": "execute_result"
    }
   ],
   "source": [
    "model.support_vectors_"
   ]
  },
  {
   "cell_type": "code",
   "execution_count": 85,
   "metadata": {},
   "outputs": [
    {
     "data": {
      "text/plain": [
       "array([102, 107])"
      ]
     },
     "execution_count": 85,
     "metadata": {},
     "output_type": "execute_result"
    }
   ],
   "source": [
    "model.n_support_"
   ]
  },
  {
   "cell_type": "code",
   "execution_count": 149,
   "metadata": {},
   "outputs": [
    {
     "name": "stdout",
     "output_type": "stream",
     "text": [
      "Accuracy:  0.5934065934065934\n"
     ]
    },
    {
     "data": {
      "image/png": "[encoded data removed]",
      "text/plain": [
       "<Figure size 432x288 with 2 Axes>"
      ]
     },
     "metadata": {
      "needs_background": "light"
     },
     "output_type": "display_data"
    }
   ],
   "source": [
    "ens = VotingClassifier(estimators=[('dt', model_dt), ('knn', model_knn), ('svc', model_svm)])\n",
    "\n",
    "ens.fit(X_train,y_train)\n",
    "y_pred = ens.predict(X_test)\n",
    "\n",
    "confusion_matrix = pd.crosstab(y_test,y_pred,rownames=['Actual'],colnames=['Predicted'])\n",
    "sn.heatmap(confusion_matrix, annot=True)\n",
    "print(\"Accuracy: \",accuracy_score(y_test,y_pred))"
   ]
  },
  {
   "cell_type": "code",
   "execution_count": null,
   "metadata": {},
   "outputs": [],
   "source": []
  },
  {
   "cell_type": "code",
   "execution_count": null,
   "metadata": {},
   "outputs": [],
   "source": []
  }
 ],
 "metadata": {
  "kernelspec": {
   "display_name": "Python 3",
   "language": "python",
   "name": "python3"
  },
  "language_info": {
   "codemirror_mode": {
    "name": "ipython",
    "version": 3
   },
   "file_extension": ".py",
   "mimetype": "text/x-python",
   "name": "python",
   "nbconvert_exporter": "python",
   "pygments_lexer": "ipython3",
   "version": "3.8.3"
  }
 },
 "nbformat": 4,
 "nbformat_minor": 4
}
